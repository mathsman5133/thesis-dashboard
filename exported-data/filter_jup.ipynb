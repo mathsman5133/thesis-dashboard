{
 "cells": [
  {
   "cell_type": "code",
   "id": "bf74f277c0b5194b",
   "metadata": {
    "ExecuteTime": {
     "end_time": "2024-08-29T06:36:16.216156Z",
     "start_time": "2024-08-29T06:36:16.197345Z"
    }
   },
   "source": [
    "import filterpy.kalman\n",
    "import numpy as np\n",
    "import pandas as pd\n",
    "from filterpy.common import Q_discrete_white_noise, Saver\n",
    "from matplotlib import pyplot as plt\n",
    "from scipy.linalg import block_diag\n",
    "from scipy.optimize import least_squares\n",
    "import numpy.polynomial.polynomial as poly\n",
    "\n",
    "# Anc_2D = [\n",
    "#     [6160189.068799788, 235476.2946930449],\n",
    "#     [6160105.440872673, 235527.55777198478],\n",
    "#     [6160007.2800598815, 235462.62533516675],\n",
    "# ]\n",
    "Anc_2D = [\n",
    "    [6160189.068799788, 235476.2946930449],\n",
    "    [6160162.550425654, 235499.53862634592],\n",
    "    [6160158.070704494, 235459.50499518885]\n",
    "]\n",
    "\n",
    "BASE_STATION_COORDS = (6160188.9135, 235476.0090)\n",
    "# LR_POLY3 = poly.Polynomial([1.70667308,  0.05036929,  0.91299066,  0.25358677, -1.04010403], [2.816559, 187.039706])\n",
    "# LR_POLY = poly.Polynomial([0.1], [100, 150.881626])\n",
    "LR_POLY = poly.Polynomial([ 0.51075268, -0.00117379, -0.43347423,  0.54042526,  0.38338424, -0.33350059, -0.14380512], [0, 100])\n",
    "# LR_POLY = poly.Polynomial([0])\n",
    "\n",
    "Anc_2D = [\n",
    "    [coord[0] - BASE_STATION_COORDS[0], coord[1] - BASE_STATION_COORDS[1]] for coord in Anc_2D\n",
    "]\n",
    "\n",
    "# x, y = sym.symbols(\"x,y\")\n",
    "initial = (-60, 15)\n",
    "time_filter = (\"04:05:40\", \"04:06:40\")\n",
    "data_source = \"2024-07-05 14:03:00.171006\"\n",
    "\n",
    "\n",
    "# dir_fp = \"../results/v2/2024-07-05 15:02:00.308097/\"\n",
    "dir_fp = f\"../results/v2/{data_source}/\"\n",
    "headers = lambda x: [\"dt\", f\"dist{x}\"]\n",
    "dtypes = lambda x: {\"dt\": float, f\"dist{x}\": float}\n",
    "# parse_dates = [\"anc1_dt\", \"anc0_dt\", \"anc2_dt\", \"gnss_dt\"]\n",
    "anc0 = pd.read_csv(dir_fp + \"uwb-0.csv\", delimiter=',', names=headers(0), dtype=dtypes(0))\n",
    "anc1 = pd.read_csv(dir_fp + \"uwb-1.csv\", delimiter=',', names=headers(1), dtype=dtypes(1))\n",
    "anc2 = pd.read_csv(dir_fp + \"uwb-2.csv\", delimiter=',', names=headers(2), dtype=dtypes(2))"
   ],
   "outputs": [],
   "execution_count": 33
  },
  {
   "metadata": {
    "collapsed": true,
    "ExecuteTime": {
     "end_time": "2024-08-29T06:36:16.704075Z",
     "start_time": "2024-08-29T06:36:16.665444Z"
    }
   },
   "cell_type": "code",
   "source": [
    "\n",
    "\n",
    "anc0.set_index('dt', inplace=True)\n",
    "anc1.set_index('dt', inplace=True)\n",
    "anc2.set_index('dt', inplace=True)\n",
    "\n",
    "anc0.index = pd.to_datetime(anc0.index, unit='s').round('50ms')\n",
    "anc1.index = pd.to_datetime(anc1.index, unit='s').round('50ms')\n",
    "anc2.index = pd.to_datetime(anc2.index, unit='s').round('50ms')\n",
    "\n",
    "# time_filter = (\"05:08:00\", \"05:09:30\")\n",
    "\n",
    "gnss_data = pd.read_csv(dir_fp + \"gnss.csv\", delimiter=',', names=[\"dt\", \"northing\", \"easting\"], dtype={\"dt\": float, \"northing\": float, \"easting\": float})\n",
    "gnss_data.set_index('dt', inplace=True)\n",
    "gnss_data.index = pd.to_datetime(gnss_data.index, unit='s').round('50ms')\n",
    "gnss_data = gnss_data.between_time(*time_filter)\n",
    "gnss_data[\"northing\"] = gnss_data[\"northing\"] - BASE_STATION_COORDS[0]\n",
    "gnss_data[\"easting\"] = gnss_data[\"easting\"] - BASE_STATION_COORDS[1]\n",
    "\n",
    "\n",
    "loaded_df = anc0.join(anc1, how='outer').join(anc2, how='outer').join(gnss_data, how='outer')\n",
    "loaded_df = loaded_df.between_time(*time_filter)\n",
    "loaded_df = loaded_df.resample(rule='50ms').mean()\n",
    "# anc0.resample(rule='50ms').mean()\n",
    "# anc1.resample(rule='50ms').mean()\n",
    "# anc2.resample(rule='50ms').mean()\n",
    "\n"
   ],
   "id": "initial_id",
   "outputs": [],
   "execution_count": 34
  },
  {
   "metadata": {
    "ExecuteTime": {
     "end_time": "2024-08-29T06:36:17.604795Z",
     "start_time": "2024-08-29T06:36:17.601820Z"
    }
   },
   "cell_type": "code",
   "source": "df2 = loaded_df.resample(rule='s').count()",
   "id": "4f80ebae786af3a0",
   "outputs": [],
   "execution_count": 35
  },
  {
   "metadata": {},
   "cell_type": "code",
   "outputs": [],
   "execution_count": null,
   "source": "",
   "id": "531eb94bcc3abb65"
  }
 ],
 "metadata": {
  "kernelspec": {
   "display_name": "Python 3",
   "language": "python",
   "name": "python3"
  },
  "language_info": {
   "codemirror_mode": {
    "name": "ipython",
    "version": 2
   },
   "file_extension": ".py",
   "mimetype": "text/x-python",
   "name": "python",
   "nbconvert_exporter": "python",
   "pygments_lexer": "ipython2",
   "version": "2.7.6"
  }
 },
 "nbformat": 4,
 "nbformat_minor": 5
}
